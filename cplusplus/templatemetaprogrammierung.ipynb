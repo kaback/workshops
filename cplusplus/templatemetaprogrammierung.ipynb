{
 "cells": [
  {
   "cell_type": "markdown",
   "metadata": {},
   "source": [
    "Beispiel: Template Metaprogrammierung mittels clingkernel in jupyter\n",
    "==============================\n",
    "Für nicht C++ Programmierer:\n",
    "-----------------------------\n",
    "+ Templates sind Instrumente der generischen Programmierung. \n",
    "+ Templates werden in C++ hauptsächlich für die Generierung typsicherer Container verwendet.\n",
    "+ Templates sind <b>keine Funktionen</b>. Templates werden <b>instanziert, nicht initialisiert</b>.\n",
    "+ Die (Template) Instanzierung findet grundsätzlich zur <b>Compilezeit</b> und <b>nicht zur Laufzeit</b> statt."
   ]
  },
  {
   "cell_type": "code",
   "execution_count": 1,
   "metadata": {
    "collapsed": false
   },
   "outputs": [
    {
     "name": "stdout",
     "output_type": "stream",
     "text": []
    }
   ],
   "source": [
    "#include <iostream>\n",
    "using namespace std;"
   ]
  },
  {
   "cell_type": "markdown",
   "metadata": {},
   "source": [
    "* Das Template <i>Fakultaet</i> <b>instanziert</b> sich rekursiv selbst:"
   ]
  },
  {
   "cell_type": "code",
   "execution_count": 2,
   "metadata": {
    "collapsed": false
   },
   "outputs": [
    {
     "name": "stdout",
     "output_type": "stream",
     "text": []
    }
   ],
   "source": [
    "template <int N> struct Fakultaet{\n",
    "    static int const value= N * Fakultaet<N-1>::value;\n",
    "};"
   ]
  },
  {
   "cell_type": "markdown",
   "metadata": {},
   "source": [
    "* Der Spezialfall <i>Fakultaet&lt;1&gt;</i> beendet die rekursive Instanzierung: "
   ]
  },
  {
   "cell_type": "code",
   "execution_count": 3,
   "metadata": {
    "collapsed": false
   },
   "outputs": [
    {
     "name": "stdout",
     "output_type": "stream",
     "text": []
    }
   ],
   "source": [
    "template <> struct Fakultaet<1>{\n",
    "    static int const value = 1;\n",
    "};"
   ]
  },
  {
   "cell_type": "markdown",
   "metadata": {},
   "source": [
    "* Das korrekte Ergebnis wird ausgegeben, obwohl ausser <i>main()</i> keine andere Funktion ausgeführt (initialisiert) wird.\n",
    "* Das funktioniert, weil das \"Ergebnis\" bereits zur Compilezeit durch instanzierung und nicht erst bei der Ausführung durch initialisierung berechnet wird:"
   ]
  },
  {
   "cell_type": "code",
   "execution_count": 4,
   "metadata": {
    "collapsed": false
   },
   "outputs": [
    {
     "name": "stdout",
     "output_type": "stream",
     "text": [
      "120\r\n"
     ]
    }
   ],
   "source": [
    "int main(void) \n",
    "{\n",
    "    cout << Fakultaet<5>::value << endl;\n",
    "    return 0;\n",
    "}"
   ]
  },
  {
   "cell_type": "markdown",
   "metadata": {},
   "source": [
    "* Der erzeugte Maschinencode enthält keinerlei Berechnungen mehr. Es wird nur noch eine Konstante ausgegeben."
   ]
  },
  {
   "cell_type": "code",
   "execution_count": null,
   "metadata": {
    "collapsed": true
   },
   "outputs": [],
   "source": []
  }
 ],
 "metadata": {
  "kernelspec": {
   "display_name": "C++",
   "language": "",
   "name": "cling"
  },
  "language_info": {
   "codemirror_mode": "text/x-c++src",
   "file_extension": ".c++",
   "mimetype": " text/x-c++src",
   "name": "c++"
  }
 },
 "nbformat": 4,
 "nbformat_minor": 0
}
