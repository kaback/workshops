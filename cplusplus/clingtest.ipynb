{
 "cells": [
  {
   "cell_type": "code",
   "execution_count": 2,
   "metadata": {
    "collapsed": false
   },
   "outputs": [
    {
     "name": "stdout",
     "output_type": "stream",
     "text": []
    }
   ],
   "source": [
    ".rawInput\n",
    "class Viereck {\n",
    "    private:\n",
    "        double hoehe;\n",
    "        double breite;\n",
    "\n",
    "    public:\n",
    "    \n",
    "        Viereck(double h_, double b_) {\n",
    "            hoehe = h_;\n",
    "            breite = b_;\n",
    "        }\n",
    "        double flaeche(void) {\n",
    "            return hoehe * breite;\n",
    "        }\n",
    "};\n",
    ".rawInput"
   ]
  },
  {
   "cell_type": "code",
   "execution_count": 3,
   "metadata": {
    "collapsed": false
   },
   "outputs": [
    {
     "name": "stdout",
     "output_type": "stream",
     "text": []
    }
   ],
   "source": [
    "Viereck v = Viereck(3,4);"
   ]
  },
  {
   "cell_type": "code",
   "execution_count": 4,
   "metadata": {
    "collapsed": false
   },
   "outputs": [
    {
     "name": "stdout",
     "output_type": "stream",
     "text": [
      "(double) 12.0000\r\n"
     ]
    }
   ],
   "source": [
    "v.flaeche();"
   ]
  },
  {
   "cell_type": "code",
   "execution_count": 5,
   "metadata": {
    "collapsed": false
   },
   "outputs": [
    {
     "name": "stdout",
     "output_type": "stream",
     "text": [
      "input_line_10:2:4: error: no member named 'test' in 'Viereck'\r\n",
      " v.test();\r\n",
      " ~ ^\r\n"
     ]
    }
   ],
   "source": [
    "v.test();"
   ]
  },
  {
   "cell_type": "code",
   "execution_count": null,
   "metadata": {
    "collapsed": true
   },
   "outputs": [],
   "source": []
  }
 ],
 "metadata": {
  "kernelspec": {
   "display_name": "C++",
   "language": "",
   "name": "cling"
  },
  "language_info": {
   "codemirror_mode": "text/x-c++src",
   "file_extension": ".c++",
   "mimetype": " text/x-c++src",
   "name": "c++"
  }
 },
 "nbformat": 4,
 "nbformat_minor": 0
}
