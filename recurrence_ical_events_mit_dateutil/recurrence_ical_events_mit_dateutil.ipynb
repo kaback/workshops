{
 "cells": [
  {
   "cell_type": "code",
   "execution_count": 1,
   "metadata": {
    "collapsed": false
   },
   "outputs": [],
   "source": [
    "import icalendar\n",
    "import urllib\n",
    "import time\n",
    "\n",
    "from datetime import date, datetime, timedelta\n",
    "from pytz import utc, timezone\n",
    "\n",
    "# diese module helfen und beim handling der recurrence rules\n",
    "from dateutil.rrule import *\n",
    "from dateutil.parser import *\n",
    "\n",
    "# wir wollen nur events anzeigen, die zwischen now und then liegen\n",
    "now = datetime.now().replace(hour=0, minute=0, second=0, microsecond=0)\n",
    "then = now + timedelta(21) #21 in der Zukunft\n",
    "\n",
    "# hier speichern wir alle events ab, die wir anzeigen wollen\n",
    "data = []\n",
    "fmt = \"%d.%m.%Y %H:%M\"\n",
    "timezoneEF = timezone('Europe/Berlin')"
   ]
  },
  {
   "cell_type": "code",
   "execution_count": 2,
   "metadata": {
    "collapsed": false
   },
   "outputs": [],
   "source": [
    "# wir ziehen uns den bytespeicher kalender rein\n",
    "f = urllib.urlopen('http://www.google.com/calendar/ical/2eskb61g20prl65k2qd01uktis%40group.calendar.google.com/public/basic.ics')\n",
    "cal = icalendar.Calendar.from_ical(f.read())\n"
   ]
  },
  {
   "cell_type": "code",
   "execution_count": 3,
   "metadata": {
    "collapsed": false
   },
   "outputs": [
    {
     "name": "stdout",
     "output_type": "stream",
     "text": [
      "  24.11.2015 18:00 - Spieleentwicklung mit Unity (FSU Jena, Informatik Fakultät, Seminarraum 3319, Ernst-Abbe-Platz, Jena)\n",
      "  25.11.2015 19:00 - Bytespeicher am Mittwoch (Bytespeicher, Liebknechtstraße 8, 99085 Erfurt, Deutschland)\n",
      "  26.11.2015 19:00 - SDR Workshop - Rauschen (Bytespeicher, Liebknechtstraße 8, 99085 Erfurt, Deutschland)\n",
      "  02.12.2015 19:00 - Bytespeicher am Mittwoch (Bytespeicher, Liebknechtstraße 8, 99085 Erfurt, Deutschland)\n",
      "  02.12.2015 20:00 - Freifunk Kennenlerntreffen (Bytespeicher, Liebknechtstraße 8, 99085 Erfurt, Deutschland)\n",
      "  05.12.2015 15:00 - Liquid Erfurt Workshop (Bytespeicher, Liebknechtstraße 8, 99085 Erfurt, Deutschland)\n",
      "  08.12.2015 19:00 - Freifunk Arbeitstreffen (Bytespeicher, Liebknechtstraße 8, 99085 Erfurt, Deutschland)\n",
      "  09.12.2015 19:00 - Bytespeicher am Mittwoch (Bytespeicher, Liebknechtstraße 8, 99085 Erfurt, Deutschland)\n"
     ]
    }
   ],
   "source": [
    "# über alle VEVENT interieren\n",
    "for ev in cal.walk('VEVENT'):\n",
    "    # ein gescheites VEVENT hat einen Startzeitpunkt\n",
    "    start = icalendar.prop.vDDDTypes.from_ical(ev[\"DTSTART\"])\n",
    "    \n",
    "    # wir unterscheiden:\n",
    "    # * Events kürzer als einen Tag\n",
    "    # * Events über einen ganzen Tag\n",
    "    \n",
    "    # ist der Startzeitpunkt ein Datetime, haben wir ein Event kürzer als einen Tag\n",
    "    if isinstance(start, datetime):\n",
    "        \n",
    "        rset = rruleset()\n",
    "        info = \"\"\n",
    "        loc = \"\"\n",
    "        \n",
    "        if \"SUMMARY\" in ev:\n",
    "            info =  ev[\"SUMMARY\"]\n",
    "        else:\n",
    "            continue # events ohne summary zeigen wir nicht an!\n",
    "        \n",
    "        if \"LOCATION\" in ev:\n",
    "            loc = ev[\"LOCATION\"]\n",
    "        else:\n",
    "            loc = \"Liebknechtstrasse 8\"\n",
    "\n",
    "        \n",
    "        # wiederholungen\n",
    "        if \"RRULE\" in ev: \n",
    "            \n",
    "            #start und rule extrahieren\n",
    "            #start und rule in ein ruleset geben \n",
    "            #und alle vorkommen zwischen now und then finden\n",
    "            ical_dtstart = (ev.get(\"DTSTART\")).to_ical()\n",
    "            ical_rrule = (ev.get('RRULE')).to_ical()\n",
    "            rset.rrule(rrulestr(ical_rrule, dtstart=parse(ical_dtstart),ignoretz=1))\n",
    "            \n",
    "            #TODO hier noch ein ausnahmen-ruleset einbauen (kvh)\n",
    "            \n",
    "            #alle wiederholungen die zwischen now und then liegen merken\n",
    "            #ACHTUNG hier wird irgendwie schon korrekt von utc nach local umgerechnet\n",
    "            for e in rset.between(now, then):\n",
    "                data.append({\n",
    "                'datetime': e.strftime(fmt),\n",
    "                'datetime_sort': e.strftime(fmt),\n",
    "                'info': info,\n",
    "                'loc' : loc,\n",
    "                })\n",
    "        \n",
    "        # keine wiederholungen\n",
    "        else: \n",
    "            #alle wiederholungen merken die zwischen now und then liegen\n",
    "            #ACHTUNG hier muessen wir noch von hand von utc nach local umrechnen\n",
    "            if start < utc.localize(now) or start > utc.localize(then):\n",
    "                    continue\n",
    "            \n",
    "            data.append({\n",
    "                'datetime': start.astimezone(timezoneEF).strftime(fmt),\n",
    "                'datetime_sort': start.astimezone(timezoneEF).strftime(fmt),\n",
    "                'info': info,\n",
    "                'loc' : loc,\n",
    "                })\n",
    "\n",
    "#übelst komplizierte \"sortiere-hash-nach-datumsspalte\" Funktion\n",
    "data = sorted(data,\n",
    "    key=lambda k: time.mktime(datetime.strptime(\n",
    "    k['datetime_sort'], \"%d.%m.%Y %H:%M\").timetuple()))            \n",
    "\n",
    "\n",
    "for d in data:\n",
    "    print \"  %s - %s (%s)\" % (d['datetime'], d['info'], d['loc'])\n",
    "                \n",
    "                \n",
    "            #print mytemp\n",
    "            #gaga = list(rrulestr(ical_rrule, dtstart=parse(ical_dtstart)))\n",
    "            #print \"---- %d/%d/%d %d:%d\" % (gaga[1].year, gaga[1].month, gaga[1].day, gaga[1].hour, gaga[1].minute)\n",
    "            #rrule = ev.get('RRULE')\n",
    "            #rset.rrule(rrule.to_ical())\n",
    "            #print rset[1]\n",
    "            \n",
    "        \n",
    "        #print \" Dtstart %d/%d/%d %d:%d\" % (start.year, start.month, start.day, start.hour, start.minute)\n",
    "    \n",
    "    #ganztags events\n",
    "    #elif isinstance(start, date):\n",
    "       \n",
    "        #if \"SUMMARY\" in ev:\n",
    "            #print \"Summary: %s\" % ev[\"SUMMARY\"]\n",
    "        \n",
    "        #wiederholungen\n",
    "        #if \"RRULE\" in ev:\n",
    "            #if \"FREQ\" in ev[\"RRULE\"]:\n",
    "                #print \"  Frequency: %s\" % ev[\"RRULE\"][\"FREQ\"][0]\n",
    "                \n",
    "        #print \" %d/%d/%d\" % (start.year, start.month, start.day)        \n",
    "        \n",
    "        \n",
    "    \n",
    "    \n",
    "    "
   ]
  },
  {
   "cell_type": "code",
   "execution_count": null,
   "metadata": {
    "collapsed": false
   },
   "outputs": [],
   "source": []
  },
  {
   "cell_type": "code",
   "execution_count": null,
   "metadata": {
    "collapsed": true
   },
   "outputs": [],
   "source": []
  }
 ],
 "metadata": {
  "kernelspec": {
   "display_name": "Python 2",
   "language": "python",
   "name": "python2"
  },
  "language_info": {
   "codemirror_mode": {
    "name": "ipython",
    "version": 2
   },
   "file_extension": ".py",
   "mimetype": "text/x-python",
   "name": "python",
   "nbconvert_exporter": "python",
   "pygments_lexer": "ipython2",
   "version": "2.7.6"
  }
 },
 "nbformat": 4,
 "nbformat_minor": 0
}
